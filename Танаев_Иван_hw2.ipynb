{
  "nbformat": 4,
  "nbformat_minor": 0,
  "metadata": {
    "colab": {
      "provenance": []
    },
    "kernelspec": {
      "name": "python3",
      "display_name": "Python 3"
    },
    "language_info": {
      "name": "python"
    }
  },
  "cells": [
    {
      "cell_type": "markdown",
      "source": [
        "## 1. Подсчет количества дней\n",
        "\n",
        "Создай целочисленные переменные, которые отвечают за:\n",
        "- количество дней для проращивания семян\n",
        "- количество дней для выращивания рассады\n",
        "- количество дней до плодоношения\n",
        "\n",
        "Сложи все три переменные. Выведи на экран результат - число дней от момента начала проращивания семян до момента, когда созреют помидоры."
      ],
      "metadata": {
        "id": "xPCW0t6jIduY"
      }
    },
    {
      "cell_type": "code",
      "execution_count": null,
      "metadata": {
        "id": "O6sEcKdFIMZb",
        "colab": {
          "base_uri": "https://localhost:8080/"
        },
        "outputId": "9eeb76da-1aec-4a4f-9bcc-62c4c184ec49"
      },
      "outputs": [
        {
          "output_type": "stream",
          "name": "stdout",
          "text": [
            "119\n"
          ]
        }
      ],
      "source": [
        "x1 = 14\n",
        "x2 = 70\n",
        "x3 = 35\n",
        "print(x1+x2+x3)"
      ]
    },
    {
      "cell_type": "markdown",
      "source": [
        "## 2. Сохранение данных о сорте.\n",
        "\n",
        "Продуктивность сорта считается по простой формуле - [количество кг, собранных со всех кустов] / [количество кустов]\n",
        "\n",
        "Считай с клавиатуры количество килограмм, собранных со всех кустов и количество кустов (целые числа). Подели и округли до 2 знаков после запятой, результат выведи на экран."
      ],
      "metadata": {
        "id": "ZmLLCikNIAdT"
      }
    },
    {
      "cell_type": "code",
      "execution_count": null,
      "metadata": {
        "id": "IWNzBK6AIouo",
        "colab": {
          "base_uri": "https://localhost:8080/"
        },
        "outputId": "e9ac4f12-c98f-4dae-c4aa-ba6dcef3dd1f"
      },
      "outputs": [
        {
          "output_type": "stream",
          "name": "stdout",
          "text": [
            "10\n",
            "10\n",
            "1.0\n"
          ]
        }
      ],
      "source": [
        "y1 = int(input())\n",
        "y2 = int(input())\n",
        "print(round(y1/y2, 2))"
      ]
    },
    {
      "cell_type": "markdown",
      "source": [
        "## 3. Средняя сладость клубники.\n",
        "\n",
        "Ваша бабушка решила поспорить с соседкой, у кого клубника более сладкая. Они посадили кусты и потом оценили сладость клубники, собранной с каждого из кустов, по шкале от 0 до 10. Ваша задача - посчитать среднее для двух массивов и определить, у кого слаще клубника в среднем."
      ],
      "metadata": {
        "id": "O9dAr1NdJpyT"
      }
    },
    {
      "cell_type": "code",
      "execution_count": null,
      "metadata": {
        "id": "oy8HPWpiIpOv",
        "outputId": "9c8c9c4a-2fce-445a-b221-aeb5e2e2394e",
        "colab": {
          "base_uri": "https://localhost:8080/"
        }
      },
      "outputs": [
        {
          "output_type": "stream",
          "name": "stdout",
          "text": [
            "grandma\n"
          ]
        }
      ],
      "source": [
        "grandma_strawberries = [5, 7, 10, 9, 3, 10]\n",
        "neighbour_strawberries = [10, 6, 2, 3]\n",
        "\n",
        "if sum(grandma_strawberries) / len(grandma_strawberries) > sum(neighbour_strawberries) / len(neighbour_strawberries):\n",
        "    print('grandma')\n",
        "elif sum(grandma_strawberries) / len(grandma_strawberries) == sum(neighbour_strawberries) / len(neighbour_strawberries):\n",
        "    print('same')\n",
        "else:\n",
        "    print('neighbour')"
      ]
    },
    {
      "cell_type": "markdown",
      "source": [
        "## 4. Список растений на даче.\n",
        "\n",
        "У вас есть список растений на даче у бабушки. <font color=\"#8000FF\"> При помощи форматирования строк </font> выведите список растений **в алфавитном порядке** в виде:\n",
        "\n",
        "N. Название растения."
      ],
      "metadata": {
        "id": "EYjJBGLsRC4y"
      }
    },
    {
      "cell_type": "code",
      "execution_count": 66,
      "metadata": {
        "id": "z2_PuewtIpWs",
        "colab": {
          "base_uri": "https://localhost:8080/"
        },
        "outputId": "84256975-a216-44f0-81a5-0e18c0105de7"
      },
      "outputs": [
        {
          "output_type": "stream",
          "name": "stdout",
          "text": [
            "1. картошка\n",
            "2. клубника\n",
            "3. мальва\n",
            "4. огурцы\n",
            "5. подсолнухи\n",
            "6. томаты\n",
            "7. флоксы\n",
            "8. хосты\n"
          ]
        }
      ],
      "source": [
        "plants = [\"мальва\", \"клубника\", \"томаты\", \"огурцы\", \"флоксы\", \"картошка\", \"подсолнухи\", \"хосты\"]\n",
        "plants.sort()\n",
        "for i in range(len(plants)):\n",
        "  print(f\"{i+1}. {plants[i]}\")\n"
      ]
    },
    {
      "cell_type": "markdown",
      "source": [
        "## 5. Погода на улице.\n",
        "\n",
        "Сейчас весна, у вашей бабушки уже высажена рассада перцев в парник. Однако она боится заморозков. Ваша задача - считать с клавиатуры значение температуры:\n",
        "\n",
        "Если t<5, надо вывести \"Пожалуйста, закрой полностью парник - на улице холодно\";\n",
        "\n",
        "Если t от 5 до 10, надо вывести \"Пожалуйста, прикрой парник - на улице прохладно\";\n",
        "\n",
        "Если t больше 10, надо вывести \"Пожалуйста, открой полностью парник - на улице тепло\"."
      ],
      "metadata": {
        "id": "amXMFPIxKq7s"
      }
    },
    {
      "cell_type": "code",
      "execution_count": null,
      "metadata": {
        "id": "F9Xwk-ldIpeY",
        "colab": {
          "base_uri": "https://localhost:8080/"
        },
        "outputId": "1c4d95c8-32d5-48a1-c209-71d30a98128b"
      },
      "outputs": [
        {
          "output_type": "stream",
          "name": "stdout",
          "text": [
            "11\n",
            "Пожалуйста, открой полностью парник - на улице тепло\n"
          ]
        }
      ],
      "source": [
        "t = int(input())\n",
        "if t< 5:\n",
        "  print('Пожалуйста, закрой полностью парник - на улице холодно')\n",
        "elif t < 10:\n",
        "  print('Пожалуйста, прикрой парник - на улице прохладно')\n",
        "else:\n",
        "  print('Пожалуйста, открой полностью парник - на улице тепло')"
      ]
    },
    {
      "cell_type": "markdown",
      "source": [
        "## 6. Список любимых томатов.\n",
        "\n",
        "У вашей бабушки есть любимые сорта томатов, но не все из них она посадила в этом году. У вас есть словарь, где ключ - название сорта, а по значению лежит количество кустов, высаженных в этом году.\n",
        "\n",
        "Ваша задача - вывести список сортов, которые были высажены в этом году (если высажено 0 кустов, то этот сорт в этом году не сажался)."
      ],
      "metadata": {
        "id": "AoT449EwIoN0"
      }
    },
    {
      "cell_type": "code",
      "execution_count": null,
      "metadata": {
        "id": "r61uXx7PIpkJ",
        "colab": {
          "base_uri": "https://localhost:8080/"
        },
        "outputId": "b0765291-575a-4bcd-f2df-0b305060ed22"
      },
      "outputs": [
        {
          "output_type": "stream",
          "name": "stdout",
          "text": [
            "Бычье сердце\n",
            "Любаша\n",
            "Космонавт Волков\n",
            "Монеточка\n"
          ]
        }
      ],
      "source": [
        "tomatoes = {\"Бычье сердце\": 4, \"Любаша\": 1, \"Титаник\": 0, \"Космонавт Волков\": 7}\n",
        "tomatoes[\"Монеточка\"] = 5\n",
        "for i in tomatoes:\n",
        "  if tomatoes[i] >0:\n",
        "    print(i)\n"
      ]
    },
    {
      "cell_type": "markdown",
      "source": [
        "## 7. Словари.\n",
        "\n",
        "Создайте словарь, где ключами будут числа от 0 до 20 включительно, а значения -\n",
        "1. -1, если значение ключа делится на 5\n",
        "2. 1 иначе\n",
        "\n",
        "\n",
        "<font color=\"#8000FF\"> Используйте comprehensions </font>"
      ],
      "metadata": {
        "id": "M7EBZSFGLiVy"
      }
    },
    {
      "cell_type": "code",
      "execution_count": null,
      "metadata": {
        "id": "2JxdQGZJIppV",
        "colab": {
          "base_uri": "https://localhost:8080/"
        },
        "outputId": "cb46c094-e082-41bc-f0e6-86bc6686a063"
      },
      "outputs": [
        {
          "output_type": "execute_result",
          "data": {
            "text/plain": [
              "{0: -1,\n",
              " 1: 1,\n",
              " 2: 1,\n",
              " 3: 1,\n",
              " 4: 1,\n",
              " 5: -1,\n",
              " 6: 1,\n",
              " 7: 1,\n",
              " 8: 1,\n",
              " 9: 1,\n",
              " 10: -1,\n",
              " 11: 1,\n",
              " 12: 1,\n",
              " 13: 1,\n",
              " 14: 1,\n",
              " 15: -1,\n",
              " 16: 1,\n",
              " 17: 1,\n",
              " 18: 1,\n",
              " 19: 1,\n",
              " 20: -1}"
            ]
          },
          "metadata": {},
          "execution_count": 88
        }
      ],
      "source": [
        "my_dict = {i: (-1 if i % 5 == 0 else 1) for i in range(21)}\n",
        "\n",
        "my_dict"
      ]
    },
    {
      "cell_type": "markdown",
      "source": [
        "## 8. Ох уж эти корейцы\n",
        "\n",
        "Вам дан список с возрастами людей в одной неизвестной корейской фирме. Вышел новый закон, который постановляет, что теперь возраст сотрудников считается не традиционным способом, а по факту рождения. Менеджер компании попросил вас перезаполнить базу данных, обновив возраст сотрудников по правилу:\n",
        "\n",
        "$age = (age + 1)$\n",
        "\n",
        " <font color=\"#8000FF\"> Используйте функцию `map`</font>"
      ],
      "metadata": {
        "id": "ZTrqV-ixUhcj"
      }
    },
    {
      "cell_type": "code",
      "source": [
        "import random\n",
        "ages = random.choices(list(range(20, 65)), k=100500)\n",
        "def func(x):\n",
        "  return x+1\n",
        "new_age = map(func, ages)\n",
        "list(new_age)"
      ],
      "metadata": {
        "id": "60H4Zi4eMSQp"
      },
      "execution_count": null,
      "outputs": []
    },
    {
      "cell_type": "markdown",
      "source": [
        "## 9. Ох уж эти корейцы - 2.0\n",
        "\n",
        "Условие такое же, как и в задаче 8, но теперь вам предстоит решить такую же задачу с использованием <font color=\"#8000FF\"> `list comprehensions` </font>"
      ],
      "metadata": {
        "id": "0wcUgWpqMls_"
      }
    },
    {
      "cell_type": "code",
      "execution_count": null,
      "metadata": {
        "id": "FyrL43m7Iptt"
      },
      "outputs": [],
      "source": [
        "new_age = [i+1 for i in ages]\n",
        "new_age\n"
      ]
    },
    {
      "cell_type": "markdown",
      "source": [
        "## 10. Много разных строк.\n",
        "\n",
        "Напишите функцию` get_extended_string_info`, принимающую на вход строку, а на выход выдаёт **7 строк через запятую**, полученные из оригинальной соответствующим преобразованием:\n",
        "\n",
        "1. Самое длинное слово в строке\n",
        "2. Количество слов в строке\n",
        "3. Переворачивает каждое слово в строке задом наперёд\n",
        "4. Удаляет все цифры из строки\n",
        "5. Заменяет все буквы верхнего регистра на нижний, а нижнего регистра на верхний\n",
        "6. Проверяет, является ли строка палиндромом (без учета пробелов, регистра и пунктуации, те только буквы и цифры)\n",
        "7. Если строка не является палиндромом, то выводит первые 5 символов строки в обратном порядке\n",
        "\n",
        "Т.е.  первая строка - самое длинное слово в исходной строке, вторая строка - количество слов в исходной строке и.т.д."
      ],
      "metadata": {
        "id": "0nk0f2oSM-dx"
      }
    },
    {
      "cell_type": "code",
      "execution_count": 85,
      "metadata": {
        "id": "qD-0OsRZIpw3"
      },
      "outputs": [],
      "source": [
        "def get_extended_string_info(x):\n",
        "\n",
        "  def reverse(x):\n",
        "    x_new = ''\n",
        "    words = x.split(' ')\n",
        "    reversed = [i[::-1] for i in words]\n",
        "    return \" \".join(reversed)\n",
        "\n",
        "  def number_words(x):\n",
        "    words = x.split()\n",
        "    return len(words)\n",
        "\n",
        "  def longest_word(x):\n",
        "    longest = ''\n",
        "    words = x.split()\n",
        "    for i in words:\n",
        "      if len(i) > len(longest):\n",
        "        longest = i\n",
        "      else:\n",
        "        continue\n",
        "    return longest\n",
        "\n",
        "  def no_numbers(x):\n",
        "    new_x = ''\n",
        "    for i in x:\n",
        "      if i.isdigit() == False:\n",
        "        new_x += i\n",
        "    return new_x\n",
        "\n",
        "  def register(x):\n",
        "    return x.swapcase()\n",
        "\n",
        "  def palindrom(x):\n",
        "    new_x = ''\n",
        "    if len(x) <5:\n",
        "      return 'Строка содержит менее 5 символов'\n",
        "    else:\n",
        "      for i in x:\n",
        "        if i.isalnum() == True :\n",
        "          new_x += i\n",
        "      new_x = new_x.lower()\n",
        "      if new_x == new_x[::-1]:\n",
        "        return('палиндром')\n",
        "      else:\n",
        "        return(x[:5][::-1])\n",
        "\n",
        "  funcs = [longest_word, number_words, reverse,  no_numbers,register,palindrom]\n",
        "  ans = []\n",
        "  return \", \".join(str(func(x)) for func in funcs)\n",
        "\n",
        "\n",
        "\n"
      ]
    },
    {
      "cell_type": "code",
      "source": [
        "get_extended_string_info('kdfjfl 123 ljk13')"
      ],
      "metadata": {
        "colab": {
          "base_uri": "https://localhost:8080/",
          "height": 35
        },
        "id": "kYfCHlvWrju1",
        "outputId": "602808a7-ef99-4f1e-974e-5f02cb26a3e4"
      },
      "execution_count": 86,
      "outputs": [
        {
          "output_type": "execute_result",
          "data": {
            "text/plain": [
              "'kdfjfl, 3, lfjfdk 321 31kjl, kdfjfl  ljk, KDFJFL 123 LJK13, fjfdk'"
            ],
            "application/vnd.google.colaboratory.intrinsic+json": {
              "type": "string"
            }
          },
          "metadata": {},
          "execution_count": 86
        }
      ]
    },
    {
      "cell_type": "markdown",
      "source": [
        "## 11. Турецкие сериалы.\n",
        "\n",
        "Из администрации школы вам поступили списки турецких студентов, сдававших экзамены по математике и физике в виде словаря \"имя\": tuple(оценка по физике, оценка по математике)\n",
        "\n",
        "Если оценка ниже трех - студент не сдал, если ниже четырех - не получает стипендию. Если хотябы один предмет не сдан, то это отчисление\n",
        "\n",
        "1. <font color=\"#8000FF\"> С помощью comprehensions </font> сформируйте списки студентов, кто сдал экзамены на проход/стипу. Подумайте, какие категории вам нужны\n",
        "\n",
        "2. Сформируйте списки на стипендию и на отчисление"
      ],
      "metadata": {
        "id": "DSlSqjt0N0-3"
      }
    },
    {
      "cell_type": "code",
      "source": [
        "exam_scores = {\n",
        "    \"Serkan Bolat\": (3, 4),\n",
        "    \"Burak Deniz\": (5, 3),\n",
        "    \"Ahmet Yildirim\": (2, 5),\n",
        "    \"Merve Kaya\": (4, 4),\n",
        "    \"Emre Demir\": (2, 2),\n",
        "    \"Zeynep Arslan\": (3, 3),\n",
        "    \"Mustafa Yilmaz\": (5, 4),\n",
        "    \"Elif Ozdemir\": (4, 3),\n",
        "    \"Canan Karaca\": (2, 4),\n",
        "    \"Yusuf Sahin\": (5, 5),\n",
        "    \"Selin Cengiz\": (3, 2),\n",
        "    \"Kerem Gunes\": (4, 5),\n",
        "    \"Duru Aydin\": (3, 4),\n",
        "    \"Omer Yilmaz\": (2, 3),\n",
        "    \"Esra Uysal\": (4, 4),\n",
        "    \"Halil Yalcin\": (3, 3),\n",
        "    \"Ayse Yildirim\": (5, 4),\n",
        "    \"Fatma Demir\": (2, 2),\n",
        "    \"Ali Gokce\": (4, 3),\n",
        "    \"Cemre Erdem\": (3, 5)\n",
        "}\n"
      ],
      "metadata": {
        "id": "1Zf73sEgOC43"
      },
      "execution_count": null,
      "outputs": []
    },
    {
      "cell_type": "code",
      "execution_count": null,
      "metadata": {
        "id": "faZRQH5pIpzu",
        "colab": {
          "base_uri": "https://localhost:8080/"
        },
        "outputId": "564148a6-8fb1-48f7-b016-e07a36a2b30b"
      },
      "outputs": [
        {
          "output_type": "stream",
          "name": "stdout",
          "text": [
            "['Serkan Bolat', 'Burak Deniz', 'Merve Kaya', 'Zeynep Arslan', 'Mustafa Yilmaz', 'Elif Ozdemir', 'Yusuf Sahin', 'Kerem Gunes', 'Duru Aydin', 'Esra Uysal', 'Halil Yalcin', 'Ayse Yildirim', 'Ali Gokce', 'Cemre Erdem']\n",
            "['Merve Kaya', 'Mustafa Yilmaz', 'Yusuf Sahin', 'Kerem Gunes', 'Esra Uysal', 'Ayse Yildirim']\n",
            "['Ahmet Yildirim', 'Emre Demir', 'Canan Karaca', 'Selin Cengiz', 'Omer Yilmaz', 'Fatma Demir']\n"
          ]
        }
      ],
      "source": [
        "sdal = [i for i in  exam_scores if min(exam_scores[i])>2]\n",
        "stipa = [i for i in  exam_scores if min(exam_scores[i])>3]\n",
        "otchislenie = [i for i in  exam_scores if min(exam_scores[i])<3]\n",
        "print(sdal)\n",
        "print(stipa)\n",
        "print(otchislenie)\n"
      ]
    },
    {
      "cell_type": "markdown",
      "source": [
        "## 12. Я у мамы разработчик.\n",
        "\n",
        "Возьмите функцию из задачи 10 и переиспользуйте её, чтобы получить количество слов в строке. Ненужные переменные запихните в `_` и `*_`"
      ],
      "metadata": {
        "id": "vfhNtLvpOLYn"
      }
    },
    {
      "cell_type": "code",
      "execution_count": null,
      "metadata": {
        "id": "simmTOFbIp2V",
        "colab": {
          "base_uri": "https://localhost:8080/"
        },
        "outputId": "a294a0e3-4b52-409d-cab3-e9c569f1a35f"
      },
      "outputs": [
        {
          "output_type": "execute_result",
          "data": {
            "text/plain": [
              "2"
            ]
          },
          "metadata": {},
          "execution_count": 39
        }
      ],
      "source": [
        "ne_nado1, number_of_words, *ne_nado2 = get_extended_string_info('jklasdfkjasdf;l fskjljf')\n",
        "number_of_words"
      ]
    },
    {
      "cell_type": "markdown",
      "source": [
        "## 13. Не перевелись ещё богатыри на Руси! - часть 1.\n",
        "\n",
        "Вам дана очень длинная строка с фамилиями, отчествами и именами потенциальных богатырей.\n",
        "\n",
        "Ваша задача - <font color=\"#8000FF\">используя цикл for</font> получить список имён из неё, после чего вывести все **уникальные** имена."
      ],
      "metadata": {
        "id": "uFJ9mDlv1q9-"
      }
    },
    {
      "cell_type": "code",
      "execution_count": null,
      "metadata": {
        "id": "w8gXe9q-oElJ"
      },
      "outputs": [],
      "source": [
        "slavic_names = '''\n",
        "Ратибор Васелинович Чеславов\n",
        "Веселин Истиславович Гремиславовский\n",
        "Хотимир Владимирович Жирославовский\n",
        "Бронислав Властимирович Бранимировский\n",
        "Васелин Граниславович Богданов\n",
        "Истислав Мутимирович Станиславов\n",
        "Вячеслав Велиградович Белославов\n",
        "Ярополк Хотимирович Станиславовский\n",
        "Тихомир Судиславович Васелинов\n",
        "Гранислав Истиславович Жирославов\n",
        "Белослав Мечиславович Мирославовский\n",
        "Властимир Богданович Гремиславов\n",
        "Гостевид Пересветович Мстиславов\n",
        "Бранимир Горисветович Велимиров\n",
        "Веселин Ратиборович Станиславов\n",
        "Вячеслав Истиславович Драгомыслов\n",
        "Васелин Велимирович Венцеславов\n",
        "Добромир Богославович Судиславов\n",
        "Тихомир Святославович Васелинов\n",
        "Вышеслав Граниславович Доброславов\n",
        "Драгомысл Ярославович Вышеславов\n",
        "Мечислав Гостевидович Станиславовский\n",
        "Градислав Веселинович Драгомыслов\n",
        "Доброслав Велимирович Святополков\n",
        "Пересвет Хотимирович Тихомиров\n",
        "Святослав Тихомирович Граниславов\n",
        "Жирослав Гремиславович Богославов\n",
        "Гранислав Перемыслович Васелинов\n",
        "Гостевид Хотимирович Ратиборов\n",
        "Гостевид Мутимирович Томиславов\n",
        "Тихомир Владимирович Веселинов\n",
        "Мстислав Хотимирович Истиславовский\n",
        "Чеслав Святополкович Веселинов\n",
        "Владимир Истиславович Властимиров\n",
        "Добромир Святополкович Доброжиров\n",
        "Томислав Истиславович Судиславовский\n",
        "Веселин Хотимирович Мстиславов\n",
        "Владимир Яромирович Судиславов\n",
        "Добромир Судиславович Жирославов\n",
        "Вышеслав Милорадович Белославовский\n",
        "Судислав Властимирович Бранимиров\n",
        "Перемысл Жирославович Бранимиров\n",
        "Драгомир Добромирович Мирославов\n",
        "Вячеслав Доброславович Судиславов\n",
        "Хотимир Перемыслович Богославов\n",
        "Веселин Мстиславович Ясномыслов\n",
        "Яромир Велиградович Истиславов\n",
        "Яромир Граниславович Веселиновский\n",
        "Ярослав Жирославович Святополков\n",
        "Горисвет Ярополкович Станиславовский\n",
        "'''"
      ]
    },
    {
      "cell_type": "code",
      "source": [
        "a = []\n",
        "for i in range(0,len(slavic_names.split()), 3):\n",
        "  if slavic_names.split()[i] in a:\n",
        "    continue\n",
        "  else:\n",
        "    a.append(slavic_names.split()[i])\n",
        "print(a)\n",
        "\n"
      ],
      "metadata": {
        "colab": {
          "base_uri": "https://localhost:8080/"
        },
        "id": "DllLnPD8pYxt",
        "outputId": "7741f425-1cad-4382-f565-4de6bf3c2cf1"
      },
      "execution_count": null,
      "outputs": [
        {
          "output_type": "stream",
          "name": "stdout",
          "text": [
            "['Ратибор', 'Веселин', 'Хотимир', 'Бронислав', 'Васелин', 'Истислав', 'Вячеслав', 'Ярополк', 'Тихомир', 'Гранислав', 'Белослав', 'Властимир', 'Гостевид', 'Бранимир', 'Добромир', 'Вышеслав', 'Драгомысл', 'Мечислав', 'Градислав', 'Доброслав', 'Пересвет', 'Святослав', 'Жирослав', 'Мстислав', 'Чеслав', 'Владимир', 'Томислав', 'Судислав', 'Перемысл', 'Драгомир', 'Яромир', 'Ярослав', 'Горисвет']\n"
          ]
        }
      ]
    },
    {
      "cell_type": "markdown",
      "source": [],
      "metadata": {
        "id": "WNg9CS07qU_0"
      }
    },
    {
      "cell_type": "markdown",
      "source": [
        "## 14. Не перевелись ещё богатыри на Руси! - часть 2.\n",
        "\n",
        "Вам дана очень длинная строка с фамилиями, отчествами и именами потенциальных богатырей.\n",
        "\n",
        "Ваша задача - <font color=\"#8000FF\">при помощи list comprehensions</font> получить список имён из неё, после чего вывести все **уникальные** имена."
      ],
      "metadata": {
        "id": "fBDeNsjooWXD"
      }
    },
    {
      "cell_type": "code",
      "source": [
        "only_names = [i for i in slavic_names.split()[::3]]\n",
        "unique = [only_names[i] for i in range(len(only_names)) if only_names[i] not in only_names[0:i]]\n",
        "unique\n"
      ],
      "metadata": {
        "colab": {
          "base_uri": "https://localhost:8080/"
        },
        "id": "sxYoRCXR5nYH",
        "outputId": "3057e27b-51a9-433b-a7f9-f2e2fb7c36f1"
      },
      "execution_count": null,
      "outputs": [
        {
          "output_type": "execute_result",
          "data": {
            "text/plain": [
              "['Ратибор',\n",
              " 'Веселин',\n",
              " 'Хотимир',\n",
              " 'Бронислав',\n",
              " 'Васелин',\n",
              " 'Истислав',\n",
              " 'Вячеслав',\n",
              " 'Ярополк',\n",
              " 'Тихомир',\n",
              " 'Гранислав',\n",
              " 'Белослав',\n",
              " 'Властимир',\n",
              " 'Гостевид',\n",
              " 'Бранимир',\n",
              " 'Добромир',\n",
              " 'Вышеслав',\n",
              " 'Драгомысл',\n",
              " 'Мечислав',\n",
              " 'Градислав',\n",
              " 'Доброслав',\n",
              " 'Пересвет',\n",
              " 'Святослав',\n",
              " 'Жирослав',\n",
              " 'Мстислав',\n",
              " 'Чеслав',\n",
              " 'Владимир',\n",
              " 'Томислав',\n",
              " 'Судислав',\n",
              " 'Перемысл',\n",
              " 'Драгомир',\n",
              " 'Яромир',\n",
              " 'Ярослав',\n",
              " 'Горисвет']"
            ]
          },
          "metadata": {},
          "execution_count": 42
        }
      ]
    },
    {
      "cell_type": "markdown",
      "source": [],
      "metadata": {
        "id": "Ot826dzFAqg3"
      }
    },
    {
      "cell_type": "markdown",
      "source": [],
      "metadata": {
        "id": "kexQ-QCe5UuB"
      }
    },
    {
      "cell_type": "markdown",
      "source": [
        "## 15. Генератор богатырских имён.\n",
        "\n",
        "\n",
        "Современные родители любят имена с духом старины. Проанализируйте список имён (именно имён, а не отчеств/фамилий) из задачи 13. Выделите (чисто визуально) 6 возможных начал имён и 6 возможных концов имён (например, Яро - начало, Полк - конец, а вместе имя - Ярополк) и напишите функцию `generate_random_old_slavic_name`, которая при помощи random.choice выдаёт случайное имя.\n",
        "\n",
        "При помощи цикла вызовите функцию 10 раз и выведите, что получилось."
      ],
      "metadata": {
        "id": "QLVpQyJnK5Bc"
      }
    },
    {
      "cell_type": "code",
      "source": [
        "import random\n",
        "def generate_random_old_slavic_name():\n",
        "    b = ['Рати', 'Хоти', 'Добро', 'Яро', 'Власти', 'Жиро']\n",
        "    e = ['мир', 'слав', 'свет', 'полк', 'вич', 'мысл']\n",
        "    return(random.choice(b)+random.choice(e))\n",
        "for i in range(10):\n",
        "  print(generate_random_old_slavic_name(), sep = ', ')"
      ],
      "metadata": {
        "id": "0burcuqjMQ30",
        "colab": {
          "base_uri": "https://localhost:8080/"
        },
        "outputId": "684fd23b-d6b3-474a-a4c8-8a160adfe4e8"
      },
      "execution_count": null,
      "outputs": [
        {
          "output_type": "stream",
          "name": "stdout",
          "text": [
            "Властиполк\n",
            "Жирополк\n",
            "Хотисвет\n",
            "Жирополк\n",
            "Яромир\n",
            "Властиполк\n",
            "Ратиполк\n",
            "Хотивич\n",
            "Властивич\n",
            "Ярович\n"
          ]
        }
      ]
    },
    {
      "cell_type": "markdown",
      "source": [
        "## 16. Один день, еще один, да один день - часть 1.\n",
        "\n",
        "Перед вами список некоторых князей Киевских и годы их правления.\n",
        "\n",
        "Ваша задача - <font color=\"#8000FF\">при помощи лямбда-функции и функции sort</font> отсортировать их в порядке возрастания количества лет, которых они провели на престоле."
      ],
      "metadata": {
        "id": "Td8QhrRJ_wdO"
      }
    },
    {
      "cell_type": "code",
      "source": [
        "rulers = [{\"name\": \"Олег Вещий\", \"year_start\": 882, \"year_end\": 912},\n",
        "          {\"name\": \"Игорь Рюрикович\", \"year_start\": 912, \"year_end\": 945},\n",
        "          {\"name\": \"Ольга\", \"year_start\": 945, \"year_end\": 960},\n",
        "          {\"name\": \"Святослав Игоревич\", \"year_start\": 945, \"year_end\": 972},\n",
        "          {\"name\": \"Ярополк Святославич\", \"year_start\": 972, \"year_end\": 978},\n",
        "          {\"name\": \"Владимир Святославич\", \"year_start\": 978, \"year_end\": 1015}]\n"
      ],
      "metadata": {
        "id": "oxgCN37HJEHk"
      },
      "execution_count": null,
      "outputs": []
    },
    {
      "cell_type": "code",
      "source": [
        "sorted_rulers = [sorted(rulers, key = lambda x: x['year_end']-x['year_start'])]\n",
        "sorted_rulers"
      ],
      "metadata": {
        "id": "WpbJzN82KUki",
        "colab": {
          "base_uri": "https://localhost:8080/"
        },
        "outputId": "2e89e18b-d5f2-420e-a92d-85556a2b9f00"
      },
      "execution_count": null,
      "outputs": [
        {
          "output_type": "execute_result",
          "data": {
            "text/plain": [
              "[[{'name': 'Ярополк Святославич', 'year_start': 972, 'year_end': 978},\n",
              "  {'name': 'Ольга', 'year_start': 945, 'year_end': 960},\n",
              "  {'name': 'Святослав Игоревич', 'year_start': 945, 'year_end': 972},\n",
              "  {'name': 'Олег Вещий', 'year_start': 882, 'year_end': 912},\n",
              "  {'name': 'Игорь Рюрикович', 'year_start': 912, 'year_end': 945},\n",
              "  {'name': 'Владимир Святославич', 'year_start': 978, 'year_end': 1015}]]"
            ]
          },
          "metadata": {},
          "execution_count": 11
        }
      ]
    },
    {
      "cell_type": "markdown",
      "source": [
        "## 17. Один день, ещё один, да один день - часть 2.\n",
        "\n",
        "Перед вами список некоторых князей Киевских и годы их правления.\n",
        "\n",
        "Ваша задача - <font color=\"#8000FF\">при помощи лямбда-функции и функции filter</font> выбрать из них тех, кто правил дольше 17 лет или является Ольгой."
      ],
      "metadata": {
        "id": "VP2Nn03BKWOo"
      }
    },
    {
      "cell_type": "code",
      "source": [
        "filtered_rulers = list(filter(lambda x: x['year_end']-x['year_start'] > 17 or x['name'] == 'Ольга', rulers))\n",
        "filtered_rulers"
      ],
      "metadata": {
        "colab": {
          "base_uri": "https://localhost:8080/"
        },
        "id": "TwXnqu8uUyu8",
        "outputId": "52dfc66a-c6e9-4402-d5a4-b26e59421fd9"
      },
      "execution_count": 88,
      "outputs": [
        {
          "output_type": "execute_result",
          "data": {
            "text/plain": [
              "[{'name': 'Олег Вещий', 'year_start': 882, 'year_end': 912},\n",
              " {'name': 'Игорь Рюрикович', 'year_start': 912, 'year_end': 945},\n",
              " {'name': 'Ольга', 'year_start': 945, 'year_end': 960},\n",
              " {'name': 'Святослав Игоревич', 'year_start': 945, 'year_end': 972},\n",
              " {'name': 'Владимир Святославич', 'year_start': 978, 'year_end': 1015}]"
            ]
          },
          "metadata": {},
          "execution_count": 88
        }
      ]
    },
    {
      "cell_type": "markdown",
      "source": [
        "## 18. Кому на Руси жить хорошо - часть 1.\n",
        "\n",
        "*В Древней Руси больше всего боялись тех, кто отсидел, потому что тогда сажали на кол.*\n",
        "\n",
        "Перед вами два словаря - словарь `paid_money` - количество золота, сколько этот боярин заплатил в казну и словарь `real_money` - количество золота, которое реально заработал боярин.\n",
        "\n",
        "<font color=\"#8000FF\">При помощи цикла for</font> выведи список имён бояр, которые заплатили менее десятой части от своих настоящих доходов - это те бояре, которых в следующем месяце придётся посадить на кол."
      ],
      "metadata": {
        "id": "uQmzqitT9zCx"
      }
    },
    {
      "cell_type": "code",
      "source": [
        "paid_money = {\"Козьма Григорьевич\": 70,\n",
        "              \"Аврам Стефанович\": 101,\n",
        "              \"Захарий Григорьевич\": 15,\n",
        "              \"Онцифор Лукинич\": 208}\n",
        "\n",
        "real_money = {\"Козьма Григорьевич\": 1000,\n",
        "              \"Аврам Стефанович\": 900,\n",
        "              \"Захарий Григорьевич\": 400,\n",
        "              \"Онцифор Лукинич\": 2000}\n"
      ],
      "metadata": {
        "id": "x_QHMKex-DM-"
      },
      "execution_count": null,
      "outputs": []
    },
    {
      "cell_type": "code",
      "source": [
        "na_kol =[]\n",
        "for i in paid_money:\n",
        "  if paid_money[i]< 0.1*real_money[i]:\n",
        "    na_kol.append(i)\n",
        "na_kol"
      ],
      "metadata": {
        "id": "_rXLJj8M-BlC",
        "colab": {
          "base_uri": "https://localhost:8080/"
        },
        "outputId": "aee84cfb-1f79-4e29-d616-a9cf8711be63"
      },
      "execution_count": null,
      "outputs": [
        {
          "output_type": "execute_result",
          "data": {
            "text/plain": [
              "['Козьма Григорьевич', 'Захарий Григорьевич']"
            ]
          },
          "metadata": {},
          "execution_count": 8
        }
      ]
    },
    {
      "cell_type": "markdown",
      "source": [
        "## 19. Кому на Руси жить хорошо - часть 2.\n",
        "\n",
        "\n",
        "Перед вами два словаря - словарь `paid_money` - количество золота, сколько этот боярин заплатил в казну и словарь `real_money` - количество золота, которое реально заработал боярин.\n",
        "\n",
        "<font color=\"#8000FF\">При помощи list comprehension и условия</font> выведи список имён бояр, которые заплатили менее десятой части от своих настоящих доходов - это те бояре, которых в следующем месяце придётся посадить на кол."
      ],
      "metadata": {
        "id": "TAhHkr-mTY9d"
      }
    },
    {
      "cell_type": "code",
      "source": [
        "on_kol = [i for i in paid_money if paid_money[i]< 0.1*real_money[i]]\n",
        "on_kol"
      ],
      "metadata": {
        "id": "ORqNSSsGl12r",
        "colab": {
          "base_uri": "https://localhost:8080/"
        },
        "outputId": "ad9bac73-1b81-41f5-d3c3-00f4b24ca2b1"
      },
      "execution_count": null,
      "outputs": [
        {
          "output_type": "execute_result",
          "data": {
            "text/plain": [
              "['Козьма Григорьевич', 'Захарий Григорьевич']"
            ]
          },
          "metadata": {},
          "execution_count": 7
        }
      ]
    },
    {
      "cell_type": "markdown",
      "source": [
        "## 20. Здесь русский дух, здесь Русью пахнет... (2 балла)\n",
        "\n",
        "Вы задались задачей сделать самые русские духи. Для этого вы собрали несколько пробных ароматов из разных нот (ноты между ароматами могут повторяться) и провели опрос среди прохожих, спрашивая, насколько Русью пахнет данный аромат по шкале от 1 до 5 включительно.\n",
        "\n",
        "Перед вами часть ароматов и часть голосов - ваша задача:\n",
        "\n",
        "1. На основе ароматов определить множество **уникальных** нот в ароматах\n",
        "2. Определить среднее значение голосов за каждую **ноту**\n",
        "3. Вывести топ-3 ноты по среднему значению голосов - это и будут наши самые русские духи."
      ],
      "metadata": {
        "id": "_HJtKjsu2ABU"
      }
    },
    {
      "cell_type": "code",
      "source": [
        "fragrances = [{\"id\": 15, \"name\": \"Русалка\", \"notes\": \"кувшинки, вода, мох, мускус\"},\n",
        "              {\"id\": 16, \"name\": \"Жар-птица\", \"notes\": \"молоко, сандал, слива, перец\"},\n",
        "              {\"id\": 17, \"name\": \"Река-Смородина\", \"notes\": \"смородина, вода, молоко, мед\"},\n",
        "              {\"id\": 18, \"name\": \"Царевна-Лягушка\", \"notes\": \"можжевельник, вода, древесина, перец, кувшинки\"},\n",
        "              {\"id\": 19, \"name\": \"Василиса-Премудрая\", \"notes\": \"мед, яблоко, ветивер, мускус\"}]\n",
        "\n",
        "votes = [{'id': 2353, 'fragrance_id': 19, 'vote_res': 2}, {'id': 2354, 'fragrance_id': 15, 'vote_res': 2}, {'id': 2355, 'fragrance_id': 18, 'vote_res': 1}, {'id': 2356, 'fragrance_id': 19, 'vote_res': 4}, {'id': 2357, 'fragrance_id': 16, 'vote_res': 4}, {'id': 2358, 'fragrance_id': 16, 'vote_res': 1}, {'id': 2359, 'fragrance_id': 18, 'vote_res': 1}, {'id': 2360, 'fragrance_id': 15, 'vote_res': 5}, {'id': 2361, 'fragrance_id': 18, 'vote_res': 5}, {'id': 2362, 'fragrance_id': 16, 'vote_res': 4}, {'id': 2363, 'fragrance_id': 19, 'vote_res': 2}, {'id': 2364, 'fragrance_id': 17, 'vote_res': 1}, {'id': 2365, 'fragrance_id': 15, 'vote_res': 1}, {'id': 2366, 'fragrance_id': 18, 'vote_res': 5}, {'id': 2367, 'fragrance_id': 19, 'vote_res': 3}, {'id': 2368, 'fragrance_id': 17, 'vote_res': 1}, {'id': 2369, 'fragrance_id': 18, 'vote_res': 1}, {'id': 2370, 'fragrance_id': 18, 'vote_res': 3}, {'id': 2371, 'fragrance_id': 15, 'vote_res': 2}, {'id': 2372, 'fragrance_id': 17, 'vote_res': 2}, {'id': 2373, 'fragrance_id': 16, 'vote_res': 2}, {'id': 2374, 'fragrance_id': 18, 'vote_res': 3}, {'id': 2375, 'fragrance_id': 19, 'vote_res': 1}, {'id': 2376, 'fragrance_id': 16, 'vote_res': 1}, {'id': 2377, 'fragrance_id': 16, 'vote_res': 2}, {'id': 2378, 'fragrance_id': 16, 'vote_res': 3}, {'id': 2379, 'fragrance_id': 18, 'vote_res': 2}, {'id': 2380, 'fragrance_id': 18, 'vote_res': 5}, {'id': 2381, 'fragrance_id': 15, 'vote_res': 3}, {'id': 2382, 'fragrance_id': 19, 'vote_res': 5}, {'id': 2383, 'fragrance_id': 17, 'vote_res': 4}, {'id': 2384, 'fragrance_id': 18, 'vote_res': 5}, {'id': 2385, 'fragrance_id': 19, 'vote_res': 3}, {'id': 2386, 'fragrance_id': 17, 'vote_res': 3}, {'id': 2387, 'fragrance_id': 17, 'vote_res': 5}, {'id': 2388, 'fragrance_id': 18, 'vote_res': 1}, {'id': 2389, 'fragrance_id': 19, 'vote_res': 1}, {'id': 2390, 'fragrance_id': 15, 'vote_res': 1}, {'id': 2391, 'fragrance_id': 19, 'vote_res': 5}, {'id': 2392, 'fragrance_id': 15, 'vote_res': 2}, {'id': 2393, 'fragrance_id': 15, 'vote_res': 3}, {'id': 2394, 'fragrance_id': 17, 'vote_res': 5}, {'id': 2395, 'fragrance_id': 15, 'vote_res': 5}, {'id': 2396, 'fragrance_id': 17, 'vote_res': 2}, {'id': 2397, 'fragrance_id': 15, 'vote_res': 5}, {'id': 2398, 'fragrance_id': 17, 'vote_res': 5}, {'id': 2399, 'fragrance_id': 18, 'vote_res': 4}, {'id': 2400, 'fragrance_id': 16, 'vote_res': 1}, {'id': 2401, 'fragrance_id': 17, 'vote_res': 5}, {'id': 2402, 'fragrance_id': 16, 'vote_res': 3}]"
      ],
      "metadata": {
        "id": "zvkU2KEy2WH8"
      },
      "execution_count": null,
      "outputs": []
    },
    {
      "cell_type": "code",
      "source": [
        "all_notes = []\n",
        "for i in range(len(fragrances)):\n",
        "  for j in fragrances[i]['notes'].replace(',','').split():\n",
        "    all_notes.append(j)\n",
        "print(set(all_notes))\n",
        "\n",
        "notes_by_fragrance_dict = {15+i: fragrances[i]['notes'].replace(',','').split() for i in range(len(fragrances[0]['notes'].replace(',','').split())+1)}\n",
        "notes_marks = {i: [] for i in set(all_notes) }\n",
        "for i in votes:\n",
        "  for j in notes_by_fragrance_dict[i['fragrance_id']]:\n",
        "    notes_marks[j] += [i['vote_res']]\n",
        "for i in notes_marks:\n",
        "  notes_marks[i] = sum(notes_marks[i])/len(notes_marks[i])\n",
        "print(notes_marks)\n",
        "top_three = sorted(notes_marks.items(), key=lambda x: x[1], reverse=True)[:3]\n",
        "print(top_three)\n",
        "\n",
        "\n",
        "\n",
        "\n",
        "\n",
        "\n",
        "\n",
        "\n"
      ],
      "metadata": {
        "colab": {
          "base_uri": "https://localhost:8080/"
        },
        "id": "AQG3Vf7bkxcu",
        "outputId": "21a0e4f4-b306-4b3e-8ec4-5a508066158c"
      },
      "execution_count": 89,
      "outputs": [
        {
          "output_type": "stream",
          "name": "stdout",
          "text": [
            "{'слива', 'ветивер', 'мускус', 'перец', 'молоко', 'мед', 'древесина', 'смородина', 'можжевельник', 'мох', 'сандал', 'вода', 'яблоко', 'кувшинки'}\n",
            "{'слива': 2.3333333333333335, 'ветивер': 2.888888888888889, 'мускус': 2.8947368421052633, 'перец': 2.7142857142857144, 'молоко': 2.8421052631578947, 'мед': 3.1052631578947367, 'древесина': 3.0, 'смородина': 3.3, 'можжевельник': 3.0, 'мох': 2.9, 'сандал': 2.3333333333333335, 'вода': 3.0625, 'яблоко': 2.888888888888889, 'кувшинки': 2.9545454545454546}\n",
            "[('смородина', 3.3), ('мед', 3.1052631578947367), ('вода', 3.0625)]\n"
          ]
        }
      ]
    }
  ]
}